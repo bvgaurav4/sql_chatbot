{
 "cells": [
  {
   "cell_type": "code",
   "execution_count": 1,
   "metadata": {},
   "outputs": [],
   "source": [
    "import pandas as pd\n",
    "import numpy as np\n",
    "df=pd.read_csv('details_of_assembly_segment_2019.csv')\n",
    "df = df.dropna()"
   ]
  },
  {
   "cell_type": "code",
   "execution_count": 4,
   "metadata": {},
   "outputs": [],
   "source": [
    "import mysql.connector\n",
    "\n",
    "mydb = mysql.connector.connect(\n",
    "  host=\"localhost\",\n",
    "  user=\"root\",\n",
    "  password=\"root\",\n",
    "  database=\"election_res\"\n",
    ")\n",
    "\n",
    "mycursor = mydb.cursor()\n",
    "\n",
    "mycursor.execute(\"select * from election_res\")\n",
    "\n",
    "myresult = mycursor.fetchall()\n",
    "\n",
    "for x in myresult:\n",
    "  print(x)\n",
    "\n"
   ]
  },
  {
   "cell_type": "code",
   "execution_count": 5,
   "metadata": {},
   "outputs": [],
   "source": [
    "add_rows = (\"INSERT INTO election_res \"\n",
    "              \"(state_name, assembly_constituency_name, nota_vote, candidate_name,party_name,votes_secured,parlimentary_constituency_name) \"\n",
    "              \"VALUES (%(state_name)s, %(assembly_constituency_name)s, %(nota_votes)s, %(candidate_name)s,%(party_name)s,%(votes_secured)s,%(parlimentary_constituency_name)s)\")"
   ]
  },
  {
   "cell_type": "code",
   "execution_count": 6,
   "metadata": {},
   "outputs": [],
   "source": [
    "for i,row in df.iterrows():\n",
    "    # break\n",
    "    mycursor.execute(add_rows, dict(row))\n",
    "    mydb.commit()"
   ]
  },
  {
   "cell_type": "code",
   "execution_count": null,
   "metadata": {},
   "outputs": [],
   "source": []
  },
  {
   "cell_type": "code",
   "execution_count": null,
   "metadata": {},
   "outputs": [],
   "source": []
  },
  {
   "cell_type": "code",
   "execution_count": 7,
   "metadata": {},
   "outputs": [
    {
     "name": "stderr",
     "output_type": "stream",
     "text": [
      "c:\\Users\\Gaurav B V\\anaconda3\\envs\\myenv\\Lib\\site-packages\\tqdm\\auto.py:21: TqdmWarning: IProgress not found. Please update jupyter and ipywidgets. See https://ipywidgets.readthedocs.io/en/stable/user_install.html\n",
      "  from .autonotebook import tqdm as notebook_tqdm\n"
     ]
    }
   ],
   "source": [
    "import pandas as pd\n",
    "\n",
    "splits = {'train': 'spider/train-00000-of-00001.parquet', 'validation': 'spider/validation-00000-of-00001.parquet'}\n",
    "df = pd.read_parquet(\"hf://datasets/xlangai/spider/\" + splits[\"train\"])"
   ]
  },
  {
   "cell_type": "code",
   "execution_count": 10,
   "metadata": {},
   "outputs": [],
   "source": [
    "df=df.drop(['query_toks','query_toks_no_value','question_toks'],axis=1)"
   ]
  },
  {
   "cell_type": "code",
   "execution_count": null,
   "metadata": {},
   "outputs": [],
   "source": [
    "    df=df[0:400]"
   ]
  },
  {
   "cell_type": "code",
   "execution_count": 19,
   "metadata": {},
   "outputs": [
    {
     "data": {
      "text/plain": [
       "('department_management',\n",
       " 'How many heads of the departments are older than 56 ?',\n",
       " 'SELECT count(*) FROM head WHERE age  >  56')"
      ]
     },
     "execution_count": 19,
     "metadata": {},
     "output_type": "execute_result"
    }
   ],
   "source": [
    "df['db_id'][0],df['question'][0],df['query'][0]"
   ]
  },
  {
   "cell_type": "code",
   "execution_count": 16,
   "metadata": {},
   "outputs": [],
   "source": [
    "import pandas as pd\n",
    "from datasets import Dataset\n",
    "dataset = Dataset.from_pandas(df)"
   ]
  },
  {
   "cell_type": "code",
   "execution_count": 17,
   "metadata": {},
   "outputs": [
    {
     "data": {
      "text/plain": [
       "Dataset({\n",
       "    features: ['db_id', 'query', 'question'],\n",
       "    num_rows: 400\n",
       "})"
      ]
     },
     "execution_count": 17,
     "metadata": {},
     "output_type": "execute_result"
    }
   ],
   "source": [
    "dataset"
   ]
  },
  {
   "cell_type": "code",
   "execution_count": 13,
   "metadata": {},
   "outputs": [
    {
     "name": "stderr",
     "output_type": "stream",
     "text": [
      "Downloading readme: 100%|██████████| 5.51k/5.51k [00:00<00:00, 21.8kB/s]\n",
      "Downloading data: 100%|██████████| 831k/831k [00:00<00:00, 2.01MB/s]\n",
      "Downloading data: 100%|██████████| 126k/126k [00:00<00:00, 265kB/s]\n",
      "Generating train split: 100%|██████████| 7000/7000 [00:00<00:00, 123586.21 examples/s]\n",
      "Generating validation split: 100%|██████████| 1034/1034 [00:00<00:00, 79538.39 examples/s]\n"
     ]
    }
   ],
   "source": [
    "from datasets import load_dataset\n",
    "\n",
    "ds = load_dataset(\"xlangai/spider\")"
   ]
  },
  {
   "cell_type": "code",
   "execution_count": 14,
   "metadata": {},
   "outputs": [
    {
     "data": {
      "text/plain": [
       "DatasetDict({\n",
       "    train: Dataset({\n",
       "        features: ['db_id', 'query', 'question', 'query_toks', 'query_toks_no_value', 'question_toks'],\n",
       "        num_rows: 7000\n",
       "    })\n",
       "    validation: Dataset({\n",
       "        features: ['db_id', 'query', 'question', 'query_toks', 'query_toks_no_value', 'question_toks'],\n",
       "        num_rows: 1034\n",
       "    })\n",
       "})"
      ]
     },
     "execution_count": 14,
     "metadata": {},
     "output_type": "execute_result"
    }
   ],
   "source": [
    "ds"
   ]
  },
  {
   "cell_type": "code",
   "execution_count": 23,
   "metadata": {},
   "outputs": [
    {
     "data": {
      "text/plain": [
       "['',\n",
       " ' Use the given schema to write an SQL query that fetches the appropriate data from the database.  Only provide the SQL query, with no explanation. ',\n",
       " ' Question : How many heads of the departments are older than 56? ',\n",
       " ' Schema :department_management  ',\n",
       " '    SQL Query :   SELECT COUNT(*) FROM department_management WHERE age > 56; ',\n",
       " '    Explanation :   The query counts']"
      ]
     },
     "execution_count": 23,
     "metadata": {},
     "output_type": "execute_result"
    }
   ],
   "source": [
    "a=\"\"\"###\n",
    "Use the given schema to write an SQL query that fetches the appropriate data from the database.  Only provide the SQL query, with no explanation.\n",
    "###\n",
    "Question : How many heads of the departments are older than 56?\n",
    "###\n",
    "Schema :department_management \n",
    "###   \n",
    "SQL Query :  \n",
    "SELECT COUNT(*) FROM department_management WHERE age > 56;\n",
    "###   \n",
    "Explanation :  \n",
    "The query counts\"\"\"\n",
    "a=a.replace(\"\\n\", \" \")\n",
    "\n",
    "a=a.split(\"###\")\n",
    "a"
   ]
  },
  {
   "cell_type": "code",
   "execution_count": 20,
   "metadata": {},
   "outputs": [],
   "source": [
    "v=a[3].split(\":\")"
   ]
  },
  {
   "cell_type": "code",
   "execution_count": 15,
   "metadata": {},
   "outputs": [
    {
     "data": {
      "text/plain": [
       "'   SELECT COUNT(*) FROM department_management WHERE age > 56; '"
      ]
     },
     "execution_count": 15,
     "metadata": {},
     "output_type": "execute_result"
    }
   ],
   "source": [
    "v[1]"
   ]
  },
  {
   "cell_type": "code",
   "execution_count": 21,
   "metadata": {},
   "outputs": [],
   "source": [
    "def exxtraction(text):\n",
    "    text=text.replace(\"\\n\",\" \")\n",
    "    text=text.split(\"###\")\n",
    "    text=text[3]\n",
    "    text=text.split(\":\")\n",
    "    return text[1]"
   ]
  },
  {
   "cell_type": "code",
   "execution_count": 22,
   "metadata": {},
   "outputs": [
    {
     "data": {
      "text/plain": [
       "'department_management  '"
      ]
     },
     "execution_count": 22,
     "metadata": {},
     "output_type": "execute_result"
    }
   ],
   "source": [
    "exxtraction(a)"
   ]
  },
  {
   "cell_type": "code",
   "execution_count": null,
   "metadata": {},
   "outputs": [],
   "source": []
  },
  {
   "cell_type": "code",
   "execution_count": null,
   "metadata": {},
   "outputs": [],
   "source": []
  },
  {
   "cell_type": "code",
   "execution_count": null,
   "metadata": {},
   "outputs": [],
   "source": []
  },
  {
   "cell_type": "code",
   "execution_count": null,
   "metadata": {},
   "outputs": [],
   "source": [
    "import requests\n",
    "\n",
    "# Define the URL and the data payload to send\n",
    "url = \"http://127.0.0.1:5000/\"  # Replace with your Flask endpoint URL\n",
    "data = {\n",
    "    \"key1\": \"value1\",\n",
    "    \"key2\": \"value2\"\n",
    "}\n",
    "\n",
    "# Send a POST request with JSON data\n",
    "response = requests.post(url, json=data)\n",
    "\n",
    "# Print the response from the server\n",
    "print(\"Response Status Code:\", response.status_code)\n",
    "print(\"Response Content:\", response.json())  # Use .text if response is not in JSON format\n"
   ]
  },
  {
   "cell_type": "code",
   "execution_count": null,
   "metadata": {},
   "outputs": [],
   "source": []
  },
  {
   "cell_type": "code",
   "execution_count": null,
   "metadata": {},
   "outputs": [],
   "source": []
  },
  {
   "cell_type": "code",
   "execution_count": null,
   "metadata": {},
   "outputs": [],
   "source": []
  },
  {
   "cell_type": "code",
   "execution_count": 1,
   "metadata": {},
   "outputs": [],
   "source": [
    "lol=\"\"\"Generated output:  ### Inference Generation Prompt ###\n",
    "\n",
    "Analyze the query results to provide insights into the data, focusing on trends, patterns, and notable variations.\n",
    "Question: what is the  average vote of the states\n",
    "Data:('Punjab', Decimal('5417.6787'))\n",
    "('NCT OF Delhi', Decimal('5255.0329'))\n",
    "('Himachal Pradesh', Decimal('4927.0771'))\n",
    "('Meghalaya', Decimal('4701.3681'))\n",
    "('Nagaland', Decimal('4167.2208'))\n",
    "('Goa', Decimal('3494.9375'))\n",
    "('Tripura', Decimal('3071.2652'))\n",
    "Query: SELECT state_name, AVG(votes_secured) FROM election_res GROUP BY state_name ORDER BY AVG(votes_secured) DESC;\n",
    "Inference:\n",
    "The state with the highest average number of votes is Punjab with 5417.6787 votes, followed by NCT of Delhi with 5255.0329 votes, Himachal Pradesh with 4927.0771 votes, Meghalaya with 4701.3681 votes, Nagaland with 4167.2208 votes, Goa with 3494.9375 votes, and Tripura with 3071.2652 votes.\"\"\""
   ]
  },
  {
   "cell_type": "code",
   "execution_count": null,
   "metadata": {},
   "outputs": [],
   "source": [
    "def exxtraction2(text):\n",
    "    text=text.replace(\"\\n\",\" \")\n",
    "    text=text.split(\":\")\n",
    "    return text[len(text)-1]"
   ]
  },
  {
   "cell_type": "code",
   "execution_count": 9,
   "metadata": {},
   "outputs": [
    {
     "data": {
      "text/plain": [
       "' The state with the highest average number of votes is Punjab with 5417.6787 votes, followed by NCT of Delhi with 5255.0329 votes, Himachal Pradesh with 4927.0771 votes, Meghalaya with 4701.3681 votes, Nagaland with 4167.2208 votes, Goa with 3494.9375 votes, and Tripura with 3071.2652 votes.'"
      ]
     },
     "execution_count": 9,
     "metadata": {},
     "output_type": "execute_result"
    }
   ],
   "source": [
    "exxtraction2(lol)"
   ]
  },
  {
   "cell_type": "code",
   "execution_count": null,
   "metadata": {},
   "outputs": [],
   "source": []
  }
 ],
 "metadata": {
  "kernelspec": {
   "display_name": "myenv",
   "language": "python",
   "name": "python3"
  },
  "language_info": {
   "codemirror_mode": {
    "name": "ipython",
    "version": 3
   },
   "file_extension": ".py",
   "mimetype": "text/x-python",
   "name": "python",
   "nbconvert_exporter": "python",
   "pygments_lexer": "ipython3",
   "version": "3.12.4"
  }
 },
 "nbformat": 4,
 "nbformat_minor": 2
}
